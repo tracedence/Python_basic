{
 "cells": [
  {
   "cell_type": "code",
   "execution_count": 1,
   "metadata": {},
   "outputs": [],
   "source": [
    "# number is variable\n",
    "number = 23"
   ]
  },
  {
   "cell_type": "code",
   "execution_count": 3,
   "metadata": {},
   "outputs": [
    {
     "name": "stdout",
     "output_type": "stream",
     "text": [
      "23 <class 'int'>\n",
      "33.3 <class 'float'>\n",
      "Apple <class 'str'>\n"
     ]
    }
   ],
   "source": [
    "# number is int type variable\n",
    "number = 23\n",
    "# price is float type variable\n",
    "price = 33.3\n",
    "# item is string type variable\n",
    "item = 'Apple'\n",
    "\n",
    "# to check type of variable use type function\n",
    "print(number, type(number))\n",
    "print(price, type(price))\n",
    "print(item, type(item))"
   ]
  },
  {
   "cell_type": "code",
   "execution_count": 15,
   "metadata": {},
   "outputs": [
    {
     "name": "stdout",
     "output_type": "stream",
     "text": [
      "[20, 42.3, 'Apple']\n",
      "element at third position : Apple\n",
      "new list : [20, 42.3, 'IOS']\n",
      "list after adding new element :  [20, 42.3, 'IOS', 'jeff']\n",
      "List after removing element [42.3, 'IOS', 'jeff']\n"
     ]
    },
    {
     "data": {
      "text/plain": [
       "['IOS', 'jeff']"
      ]
     },
     "execution_count": 15,
     "metadata": {},
     "output_type": "execute_result"
    }
   ],
   "source": [
    "# creating list of different types of elements\n",
    "temp_list = [20, 42.3, 'Apple']\n",
    "print(temp_list)\n",
    "\n",
    "# accessing elements in list\n",
    "print('element at third position :', temp_list[2])\n",
    "\n",
    "# changing elements in list\n",
    "temp_list[2] = 'IOS'\n",
    "print('new list :', temp_list)\n",
    "\n",
    "# adding element to list\n",
    "temp_list.append('jeff')\n",
    "print('list after adding new element : ', temp_list)\n",
    "\n",
    "# remove elements from list\n",
    "temp_list.remove(20)\n",
    "print('List after removing element', temp_list)\n",
    "\n",
    "# list compression \n",
    "[element for element in temp_list if type(element) == str]"
   ]
  },
  {
   "cell_type": "code",
   "execution_count": 16,
   "metadata": {},
   "outputs": [
    {
     "data": {
      "text/plain": [
       "['IOS', 'jeff']"
      ]
     },
     "execution_count": 16,
     "metadata": {},
     "output_type": "execute_result"
    }
   ],
   "source": [
    "# list compression \n",
    "[element for element in temp_list if type(element) == str]"
   ]
  },
  {
   "cell_type": "code",
   "execution_count": 18,
   "metadata": {},
   "outputs": [
    {
     "data": {
      "text/plain": [
       "{2}"
      ]
     },
     "execution_count": 18,
     "metadata": {},
     "output_type": "execute_result"
    }
   ],
   "source": [
    "{2,2}"
   ]
  },
  {
   "cell_type": "code",
   "execution_count": 25,
   "metadata": {},
   "outputs": [
    {
     "name": "stdout",
     "output_type": "stream",
     "text": [
      "elements in tuples : (2, 4, 5, 2, 5)\n",
      "element at first position in tuple : 2\n",
      "element from first position to third position : (2, 4, 5)\n"
     ]
    }
   ],
   "source": [
    "# creating tuple\n",
    "values = (2,4,5,2,5)\n",
    "print('elements in tuples :', values)\n",
    "\n",
    "# accessing elements \n",
    "print('element at first position in tuple :', values[0])\n",
    "\n",
    "# accessing range of elements\n",
    "print('element from first position to third position :',values[0:3])"
   ]
  },
  {
   "cell_type": "code",
   "execution_count": 27,
   "metadata": {},
   "outputs": [
    {
     "ename": "TypeError",
     "evalue": "'tuple' object does not support item assignment",
     "output_type": "error",
     "traceback": [
      "\u001b[1;31m---------------------------------------------------------------------------\u001b[0m",
      "\u001b[1;31mTypeError\u001b[0m                                 Traceback (most recent call last)",
      "\u001b[1;32m<ipython-input-27-288d88d56385>\u001b[0m in \u001b[0;36m<module>\u001b[1;34m\u001b[0m\n\u001b[0;32m      1\u001b[0m \u001b[1;31m# changing values in tuple\u001b[0m\u001b[1;33m\u001b[0m\u001b[1;33m\u001b[0m\u001b[1;33m\u001b[0m\u001b[0m\n\u001b[1;32m----> 2\u001b[1;33m \u001b[0mvalues\u001b[0m\u001b[1;33m[\u001b[0m\u001b[1;36m0\u001b[0m\u001b[1;33m]\u001b[0m \u001b[1;33m=\u001b[0m \u001b[1;36m3\u001b[0m\u001b[1;33m\u001b[0m\u001b[1;33m\u001b[0m\u001b[0m\n\u001b[0m",
      "\u001b[1;31mTypeError\u001b[0m: 'tuple' object does not support item assignment"
     ]
    }
   ],
   "source": [
    "# changing values in tuple\n",
    "values[0] = 3"
   ]
  },
  {
   "cell_type": "code",
   "execution_count": 32,
   "metadata": {},
   "outputs": [
    {
     "name": "stdout",
     "output_type": "stream",
     "text": [
      "elements of set : {'Bombay', 'Delhi', 'Calcutta', 'Madras'}\n",
      "Set after adding element : {'Delhi', 'Bombay', 'Calcutta', 'Jaipur', 'Madras'}\n",
      "Set after removing element : {'Delhi', 'Bombay', 'Jaipur', 'Madras'}\n"
     ]
    }
   ],
   "source": [
    "# creating set\n",
    "cities = {\"Madras\", \"Delhi\", \"Bombay\", \"Calcutta\", \"Madras\"}\n",
    "print('elements of set :' ,cities)\n",
    "\n",
    "# adding elements to set\n",
    "cities.add('Jaipur')\n",
    "print('Set after adding element :', cities)\n",
    "\n",
    "# removing elements from set\n",
    "cities.remove('Calcutta')\n",
    "print('Set after removing element :', cities)"
   ]
  },
  {
   "cell_type": "code",
   "execution_count": 37,
   "metadata": {},
   "outputs": [
    {
     "name": "stdout",
     "output_type": "stream",
     "text": [
      "elements of dictionary : {'name': 'jeff', 'reg_no': '389444', 'course': 'Computer Science'}\n",
      "value of dictioanry at key name : jeff\n",
      "updated dictionary : {'name': 'Ravl', 'reg_no': '389444', 'course': 'Computer Science'}\n"
     ]
    }
   ],
   "source": [
    "# creating dictionary\n",
    "student = {\"name\":\"jeff\", \"reg_no\":\"389444\", \"course\":\"Computer Science\"}\n",
    "print('elements of dictionary :', student)\n",
    "\n",
    "# accessing element of dictionary using key\n",
    "print('value of dictioanry at key name :',student['name'])\n",
    "\n",
    "# updating value in dictionary\n",
    "student['name'] = 'Ravl'\n",
    "print('updated dictionary :', student)\n"
   ]
  },
  {
   "cell_type": "code",
   "execution_count": 38,
   "metadata": {},
   "outputs": [
    {
     "name": "stdout",
     "output_type": "stream",
     "text": [
      "a is less than b\n"
     ]
    }
   ],
   "source": [
    "# control statement\n",
    "a = 3\n",
    "b = 5\n",
    "if a > b:\n",
    "    print('a is greater than b')\n",
    "else:\n",
    "    print('a is less than b')"
   ]
  },
  {
   "cell_type": "code",
   "execution_count": 40,
   "metadata": {},
   "outputs": [
    {
     "name": "stdout",
     "output_type": "stream",
     "text": [
      "mukesh@gmail.com\n",
      "pratyush@gmail.com\n",
      "ananya@gmail.com\n",
      "rohit@gmail.com\n",
      "prem@gmail.com\n"
     ]
    }
   ],
   "source": [
    "ofl_team = [\"mukesh\", \"pratyush\", \"ananya\", \"rohit\", \"prem\"]\n",
    "for person in ofl_team:\n",
    "    mail = person + \"@gmail.com\"\n",
    "    print(mail)"
   ]
  },
  {
   "cell_type": "code",
   "execution_count": 43,
   "metadata": {},
   "outputs": [],
   "source": [
    "#defining square function \n",
    "def square(number):\n",
    "    # returning square of number\n",
    "    return number* number"
   ]
  },
  {
   "cell_type": "code",
   "execution_count": 44,
   "metadata": {},
   "outputs": [
    {
     "data": {
      "text/plain": [
       "25"
      ]
     },
     "execution_count": 44,
     "metadata": {},
     "output_type": "execute_result"
    }
   ],
   "source": [
    "square(5)"
   ]
  },
  {
   "cell_type": "code",
   "execution_count": 53,
   "metadata": {},
   "outputs": [],
   "source": [
    "class Phone:\n",
    "    \n",
    "    # This string explain purpose of the class and it is optional\n",
    "    \"\"\" This phone class explain common attributes and behavior that exist in phone\"\"\"\n",
    "    \n",
    "    # initializing attributes\n",
    "    def __init__(self,company, length, breadth):\n",
    "        \n",
    "        self.company = company\n",
    "        self.length = length\n",
    "        self.breadth = breadth\n",
    "        \n",
    "    def camera(self):\n",
    "        \n",
    "        message = 'Capturing High quality photo'\n",
    "        return message\n"
   ]
  },
  {
   "cell_type": "code",
   "execution_count": 54,
   "metadata": {},
   "outputs": [
    {
     "name": "stdout",
     "output_type": "stream",
     "text": [
      " This phone class explain common attributes and behavior that exist in phone\n"
     ]
    }
   ],
   "source": [
    "# creating object iphone_X\n",
    "iphone_X = Phone('Apple', 5.65,2.79)\n",
    "\n",
    "# print docstring of the class\n",
    "print(Phone.__doc__)"
   ]
  },
  {
   "cell_type": "code",
   "execution_count": 55,
   "metadata": {},
   "outputs": [
    {
     "name": "stdout",
     "output_type": "stream",
     "text": [
      "company name : Apple\n",
      "Length of phone : 5.65\n",
      "Breadth of phone : 2.79\n"
     ]
    }
   ],
   "source": [
    "print('company name :',iphone_X.company)\n",
    "print('Length of phone :',iphone_X.length)\n",
    "print('Breadth of phone :',iphone_X.breadth)"
   ]
  },
  {
   "cell_type": "code",
   "execution_count": null,
   "metadata": {},
   "outputs": [],
   "source": []
  }
 ],
 "metadata": {
  "kernelspec": {
   "display_name": "Python 3",
   "language": "python",
   "name": "python3"
  },
  "language_info": {
   "codemirror_mode": {
    "name": "ipython",
    "version": 3
   },
   "file_extension": ".py",
   "mimetype": "text/x-python",
   "name": "python",
   "nbconvert_exporter": "python",
   "pygments_lexer": "ipython3",
   "version": "3.7.1"
  }
 },
 "nbformat": 4,
 "nbformat_minor": 2
}
